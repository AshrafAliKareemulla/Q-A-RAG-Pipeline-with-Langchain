{
 "cells": [
  {
   "cell_type": "code",
   "execution_count": 1,
   "metadata": {},
   "outputs": [],
   "source": [
    "# Import OS and create the environment\n",
    "\n",
    "import os\n",
    "from dotenv import load_dotenv\n",
    "load_dotenv()\n",
    "os.environ[\"OPENAI_API_KEY\"] = os.getenv(\"OPENAI_API_KEY\")"
   ]
  },
  {
   "cell_type": "code",
   "execution_count": 2,
   "metadata": {},
   "outputs": [],
   "source": [
    "# Load the source data\n",
    "# Transform and Embed\n",
    "# Vector store for storing the openai embeddings\n",
    "# Retrieve the data"
   ]
  },
  {
   "cell_type": "code",
   "execution_count": 3,
   "metadata": {},
   "outputs": [
    {
     "data": {
      "text/plain": [
       "[Document(page_content='24/A Pact with the Sun\\nSAEEDA ’S mother had been ailing for a long time —fever, cough,\\nbody-ache, painful joints and what not. T reated by a variety\\nof physicians for weeks, she often showed signs of\\nimprovement but soon r elapsed into her old, sick self, one\\ncomplaint substituted by another . Though weak and\\ncolourless, she was forbidden nor mal food and was under\\nstrict or ders to r emain perpetually confined to her small,\\ndingy r oom with doors and windows fastened, deprived of\\nsunshine and fr esh air .\\n•Saeeda’s mother has not received proper medical treatment\\nfor her complaints.\\n•She is denied healthy food, sunshine and fr esh air .\\n•At last, she consults a good physician who gives her effective\\nmedicine and sound advice.\\nRationalised 2023-24\\n', metadata={'source': 'TextBook_PDF/fepw107.pdf', 'page': 0}),\n",
       " Document(page_content='When she became critical, her relatives and neighbours\\npersuaded her to consult a specialist even though his fee\\nwas likely to be high. Life is more precious than money, they\\nsaid. Saeeda’s mother was poor but she heeded their advice\\nand sold a few trinkets to pay the doctor’s fee and the\\ncost of medicine.\\nThe doctor came in a few days and examined her and\\nprescribed effective but costly medicine. To the question as\\nto what she should eat he said, “Anything you wish to eat —\\nchapati, vegetables, milk, fruits, etc. In addition to all this,”\\nhe added emphatically, “leave this dark hovel and occupy a\\nbigger room with doors and windows open. Sit in the sun\\nevery mor ning fr om eight to nine. Sunshine and fr esh air ,” he\\nconcluded, “are more important than medicine.”\\nThe doctor and his advice became a subject of noisy\\ncommentary among all present. Some favoured while others\\nopposed it. Exposure to sun and air for someone afflicted with\\nchronic cough was dangerous, an experienced lady declared. A\\nyounger neighbour nearly quarrelled with her over this. Too\\nexhausted to participate in the debate, Saeeda’s mother\\nremained quiet but deter mined to follow the doctor’s advice.\\n“Forget the consequences,” she said at last. “I’ll carry out his\\ninstructions to the letter . Move my bed into the next r oom and\\nlet me sit in the sun on my charpoy for an hour daily .”\\nIt so happened that the sky remained overcast next\\nmorning. The same was the case the following day. Saeeda’s•The sky remains overcast with clouds for a few days.\\n•Saeeda makes a special request to the sunrays to help her\\nmother get well.\\n•The sunrays keep their word, come down in large numbers\\nand give new life to Saeeda’s mother .A Pact with the Sun/25\\nRationalised 2023-24\\n', metadata={'source': 'TextBook_PDF/fepw107.pdf', 'page': 1}),\n",
       " Document(page_content='26/A Pact with the Sun\\nmother was dejected. She muttered, “O Lord of mine, why\\nhave you ordered the sun to remain hidden? How will I\\never be cured?”\\nSaeeda was playing with her doll nearby and she heard\\nher mother’s lament but kept calm. Later in the after noon,\\nwhen she stumbled on a spot of pale sunshine in the\\ncourtyard, she ran to her mother to say the sun was there.\\n“No, no”, said everybody pr esent. “It’s too late and chilly. Y our\\nmother can’t sit out ther e.” Disheartened, Saeeda r eturned\\nto her doll. There was no sun really except for its last remnant\\nentangled in the top branches of the family mango tree.\\nNow, children have at their command a secret language,\\nforeign to gr own-ups altogether , in which they fluently\\ncommunicate with trees, flowers, animals, the sun and the\\nmoon, perhaps even with the Almighty. Using that special\\nlanguage, Saeeda addressed her remark to the last departing\\nray of the sun. “Dear est sister , do come tomorr ow with lots of\\nwarmth and brightness. Y ou see, my mother is ill and needs\\nyour help.”\\n“Surely,” answered the light,\\n“don’t look unhappy. W e’ll be her e\\nat the fixed hour .”\\nNext day, early in the mor ning,\\nwhen the sprightly sunrays\\nembellished themselves for their\\njourney down to earth, the sun said,\\n“It’s our day of f again. W e’re staying\\nup here. The road to earth is\\nblocked by an ar my of thick, mucky\\nclouds.” The little rays so much\\nwanted to go down for a lark but\\nthey remained quiet. One of them,\\nthough, who had made a pact with\\nRationalised 2023-24\\n', metadata={'source': 'TextBook_PDF/fepw107.pdf', 'page': 2}),\n",
       " Document(page_content='A Pact with the Sun/27\\nlittle Saeeda said, “Sir , I can’t stay back. I’ve given my wor d\\nto Saeeda whose mother is ill and needs our help. I’ll pierce\\nthrough the clouds to reach Saeeda’s courtyard. How else\\nwill her mother be cured?” Hearing this, all the rays nearly\\nstaged a r evolt against their father , the sun. “Fancy staying\\nback again,” they said in a single voice. “What will the people\\nof the earth say about us? That we of the heavens have\\nturned liars?”\\nThe sun relented. “Please yourselves,” he said. “Mind your\\nclothes, though. The clouds are mucky.”\\n“Never mind our clothes. W e can always change. But go\\nwe must.” And the rays rushed towards the earth. The clouds\\nstood guard between them and Saeeda’s courtyard. The little\\nrays focussed their heat — and they had enough of it — on a\\nbattalion of clouds, which had to flee from its post. The rays\\ngot through, shooting past the bewildered clouds. They were\\nalready late.\\nRationalised 2023-24\\n', metadata={'source': 'TextBook_PDF/fepw107.pdf', 'page': 3}),\n",
       " Document(page_content='28/A Pact with the Sun\\nSaeeda saw the whole host of them approaching and her\\nheart leapt with joy. She shouted, “ Amma , Amma ! The sun is\\nhere. Come out.” The old lady’s eyes welled up with tears of\\ngratitude. Her c harpoy  was placed in the courtyard and she sat\\non it for an hour reclining against bolsters. It had been months\\nsince she had felt the sun on her hands and face and breathed\\nin fresh air . She thought she was in a new world. Though pale,\\nher face glowed and her eyes shone bright. She saw her child\\ntoo bathed in sunlight and kissed her . The mor ning air br ought\\nin a new fragrance from nearby flowers. The birds chanted a\\nnew tune. Saeeda’s mother felt better already.\\nShe is fully recovered now, but she still follows the doctor’s\\nadvice — an hour of sunlight and lungfuls of fresh air every day.\\nZAKIR HUSAIN\\n[translated from the Urdu and\\nslightly modified]\\nQuestions\\n1.What did the physicians ask Saeeda’s mother to do to\\nget well? Did their advice help her? If not, why?\\n2.What did the specialist prescribe in addition to\\nmedicine?\\n3.What did Saeeda tell the sunrays to do?\\n4.Why were the sunrays keen to go down to the earth the\\nnext day?\\n/circle6What is your own formula for keeping good health?\\n/circle6Who would you recommend to a patient in your\\nneighbourhood — the physicians contacted first or the\\nspecialist contacted next?  Give reasons for your choice.\\n/circle6When would you make a pact with the sun?  When you\\nare going on a picnic, or when you are playing a cricket\\nmatch?  Think of other occasions.\\nRationalised 2023-24\\n', metadata={'source': 'TextBook_PDF/fepw107.pdf', 'page': 4})]"
      ]
     },
     "execution_count": 3,
     "metadata": {},
     "output_type": "execute_result"
    }
   ],
   "source": [
    "# PDF based loader\n",
    "\n",
    "from langchain_community.document_loaders import PyPDFLoader\n",
    "\n",
    "pdf0 = PyPDFLoader('TextBook_PDF/fepw1ps.pdf').load()\n",
    "pdf1 = PyPDFLoader('TextBook_PDF/fepw101.pdf').load()\n",
    "pdf2 = PyPDFLoader('TextBook_PDF/fepw102.pdf').load()\n",
    "pdf3 = PyPDFLoader('TextBook_PDF/fepw103.pdf').load()\n",
    "pdf4 = PyPDFLoader('TextBook_PDF/fepw104.pdf').load()\n",
    "pdf5 = PyPDFLoader('TextBook_PDF/fepw105.pdf').load()\n",
    "pdf6 = PyPDFLoader('TextBook_PDF/fepw106.pdf').load()\n",
    "pdf7 = PyPDFLoader('TextBook_PDF/fepw107.pdf').load()\n",
    "\n",
    "pdf7"
   ]
  },
  {
   "cell_type": "code",
   "execution_count": 4,
   "metadata": {},
   "outputs": [
    {
     "data": {
      "text/plain": [
       "[Document(page_content='Rationalised 2023-24', metadata={'source': 'TextBook_PDF/fepw1ps.pdf', 'page': 0}),\n",
       " Document(page_content='First Edition\\nFebruary 2006  Phalguna 1927\\nReprinted\\nJanuary 2007, October 2007,\\nMarch 2009, December 2009,\\nJanuary 2011, January 2012,\\nDecember 2012, November 2013,\\nDecember 2014, December 2015,\\nDecember 2016, October 2017,\\nDecember 2018, August 2019,\\nAugust 2021 and November 2021\\nRevised Edition\\nNovember 2022 Agrahayana 1944\\nPD 300T BS\\n© National Council of Educational\\nResearch and Training, 2006,\\n2022\\n` 35.00ALL RIGHTS RESERVED\\n/boxshadowdwnNo part of this publication may be reproduced, stored in a retrieval system\\nor transmitted, in any form or by any means, electronic, mechanical,\\nphotocopying, recording or otherwise without the prior permission of the\\npublisher.\\n/boxshadowdwnThis book is sold subject to the condition that it shall not, by way of trade,\\nbe lent,  re-sold, hired out or otherwise disposed of without the publisher’s\\nconsent, in any form of binding or cover other than that in which it is published.', metadata={'source': 'TextBook_PDF/fepw1ps.pdf', 'page': 1}),\n",
       " Document(page_content='be lent,  re-sold, hired out or otherwise disposed of without the publisher’s\\nconsent, in any form of binding or cover other than that in which it is published.\\n/boxshadowdwnThe correct price of this publication is the price printed on this page, Any\\nrevised price indicated by a rubber stamp or by a sticker or by any other means\\nis incorrect and should be unacceptable.\\nOFFICES OF THE PUBLICA TION\\nDIVISION, NCERT\\nNCERT Campus\\nSri Aurobindo Marg\\nNew  Delhi 110 016 Phone :  011-26562708\\n108, 100 Feet Road\\nHosdakere Halli Extension\\nBanashankari III Stage\\nBengaluru 560 085 Phone : 080-26725740\\nNavjivan Trust Building\\nP.O. Navjivan\\nAhmedabad 380 014 Phone :  079-27541446\\nCWC Campus\\nOpp. Dhankal Bus Stop\\nPanihati\\nKolkata 700 114 Phone :  033-25530454\\nCWC Complex\\nMaligaon\\nGuwahati 781 021 Phone :  0361-2674869\\nPublication Team\\nHead, Publication :Anup Kumar Rajput\\nDivision\\nChief Production :Arun Chitkara\\nOfficer\\nChief Business :Vipin Dewan\\nManager\\nChief Editor (In charge) :Bijnan Sutar', metadata={'source': 'TextBook_PDF/fepw1ps.pdf', 'page': 1}),\n",
       " Document(page_content='Publication Team\\nHead, Publication :Anup Kumar Rajput\\nDivision\\nChief Production :Arun Chitkara\\nOfficer\\nChief Business :Vipin Dewan\\nManager\\nChief Editor (In charge) :Bijnan Sutar\\nEditor :Vijayam\\nSankaranarayanan\\nProduction Assistant :Om Prakash\\nIllustrations\\nBhushan Shaligram\\nCover\\nShweta RaoPrinted on 80 GSM paper with NCER T\\nwatermark\\nPublished at the Publication Division\\nby the Secretary, National Council\\nof Educational Research and Training,\\nSri Aurobindo Marg, New Delhi -\\n110 016 and printed at Kunal Offset,\\nPlot No. 364, Road No. 38, G.I.D.C.\\nOdhav, Ahmedabad - 382 415\\n(Gujarat)ISBN  81-7450-484-20648 – A P ACT WITH THE SUN\\nTextbook for Class VI\\nRationalised 2023-24', metadata={'source': 'TextBook_PDF/fepw1ps.pdf', 'page': 1}),\n",
       " Document(page_content=\"FOREWORD\\nTHE National Curriculum Framework (NCF), 2005, recommends that\\nchildren's life at school must be linked to their life outside the school.\\nThis principle marks a departure from the legacy of bookish learn-\\ning which continues to shape our system and causes a gap between\\nthe school, home and community. The syllabi and textbooks devel-\\noped on the basis of NCF signify an attempt to implement this basic\\nidea. They also attempt to discourage rote learning and the mainte-\\nnance of sharp boundaries between dif ferent subject ar eas. W e hope\\nthese measures will take us significantly further in the direction of a\\nchild-centred system of education outlined in the National Policy of\\nEducation (1986).\\nThe success of this ef fort depends on the steps that school\\nprincipals and teachers will take to encourage childr en to r eflect on\\ntheir own lear ning and to pursue imaginative activities and questions.\\nWe must r ecognise that, given space, time and fr eedom, childr en\", metadata={'source': 'TextBook_PDF/fepw1ps.pdf', 'page': 2}),\n",
       " Document(page_content='their own lear ning and to pursue imaginative activities and questions.\\nWe must r ecognise that, given space, time and fr eedom, childr en\\ngenerate new knowledge by engaging with the infor mation passed\\non to them by adults.  Treating the pr escribed textbook as the sole\\nbasis of examination is one of the key r easons why other r esour ces\\nand sites of lear ning ar e ignor ed.  Inculcating cr eativity and initiative\\nis possible if we per ceive and tr eat childr en as participants in lear ning,\\nnot as r eceivers of a fixed body of knowledge.\\nThese aims imply considerable change in school r outines and\\nmode of functioning. Flexibility in the daily time-table is as necessary\\nas rigour in implementing the annual calendar so that the r equir ed\\nnumber of teaching days ar e actually devoted to teaching. The\\nmethods used for teaching and evaluation will also deter mine how\\neffective this supplementary r eader pr oves for making childr en’s', metadata={'source': 'TextBook_PDF/fepw1ps.pdf', 'page': 2}),\n",
       " Document(page_content='number of teaching days ar e actually devoted to teaching. The\\nmethods used for teaching and evaluation will also deter mine how\\neffective this supplementary r eader pr oves for making childr en’s\\nlife at school a happy experience, rather than a sour ce of str ess or\\nboredom. Syllabus designers have tried to addr ess the pr oblem of\\ncurricular bur den by r estructuring and r eorienting knowledge at\\ndifferent stages with greater consideration for child psychology and\\nthe time available for teaching. The book attempts to enhance this\\nendeavour by giving higher priority and space to opportunities for\\ncontemplation and wondering, discussion in small gr oups, and\\nactivities r equiring hands-on experience.\\nRationalised 2023-24', metadata={'source': 'TextBook_PDF/fepw1ps.pdf', 'page': 2}),\n",
       " Document(page_content='iv\\nThe National Council of Educational Resear ch and T raining\\n(NCER T) appr eciates the har d work done by the textbook development\\ncommittee r esponsible for this book. W e wish to thank the Chairperson\\nof the advisory group in languages, Professor Namwar  Singh  and\\nthe Chief Advisor for this book, Professor R. Amritavalli for guiding\\nthe work of this committee. Several teachers contributed to the\\ndevelopment of this book; we are grateful to their principals for\\nmaking this possible. W e are indebted to the institutions and\\norganisations which have generously permitted us to draw upon\\ntheir r esour ces, materials and personnel. W e are especially grateful\\nto the members of the National Monitoring Committee, appointed\\nby the Department of Secondary and Higher Education, Ministry of\\nHuman Resource Development under the Chairpersonship of\\nProfessor Mrinal Miri and Pr ofessor G.P . Deshpande for their valuable\\ntime and contribution. As an organisation committed to systemic', metadata={'source': 'TextBook_PDF/fepw1ps.pdf', 'page': 3}),\n",
       " Document(page_content='Human Resource Development under the Chairpersonship of\\nProfessor Mrinal Miri and Pr ofessor G.P . Deshpande for their valuable\\ntime and contribution. As an organisation committed to systemic\\nreform and continuous improvement in the quality of its products,\\nNCER T welcomes comments and suggestions which will enable us\\nto undertake further revision and refinements.\\nDirector\\nNew Delhi National Council of Educational\\n20 December 2005 Resear ch and T raining\\nRationalised 2023-24', metadata={'source': 'TextBook_PDF/fepw1ps.pdf', 'page': 3}),\n",
       " Document(page_content='RATIONALISATION  OF CONTENT  IN THE\\nTEXTBOOKS\\nIn view of the COVID-19 pandemic, it is imperative to reduce\\ncontent load on students. The National Education Policy 2020,\\nalso emphasises reducing the content load and providing\\nopportunities for experiential learning with creative mindset. In\\nthis backgr ound, the NCER T has undertaken the exer cise to\\nrationalise the textbooks across all classes. Learning Outcomes\\nalready developed by the NCER T acr oss classes have been taken\\ninto consideration in this exercise.\\nContents of the textbooks have been rationalised in view\\nof the following:\\n•Content based on genres of literature in the textbooks\\nand supplementary readers at different stages of school\\neducation\\n•Content that is meant for achieving Learning Outcomes\\nfor developing language proficiency and is accessible at\\ndifferent stages\\n•For reducing the curriculum load and examination stress\\nin view of the previling condition of the Pandemic', metadata={'source': 'TextBook_PDF/fepw1ps.pdf', 'page': 4}),\n",
       " Document(page_content='for developing language proficiency and is accessible at\\ndifferent stages\\n•For reducing the curriculum load and examination stress\\nin view of the previling condition of the Pandemic\\n•Content, which is easily accessible to students without\\nmuch interventions from teachers and can be learned by\\nchildr en thr ough self-lear ning or peer -learning\\n•Content, which is irrelevant in the present context\\nThis present edition, is a reformatted version after\\ncarrying out the changes given above.\\nRationalised 2023-24', metadata={'source': 'TextBook_PDF/fepw1ps.pdf', 'page': 4}),\n",
       " Document(page_content='Rationalised 2023-24', metadata={'source': 'TextBook_PDF/fepw1ps.pdf', 'page': 5}),\n",
       " Document(page_content='A NOTE FOR THE TEACHER\\nTHE main objective of this supplementary reader is to promote among\\nlearners the habit of r eading independently with inter est, under -\\nstanding and enjoyment. It seeks to enable them to read indepen-\\ndently in the sense that they would not expect the book to be taken\\nup page by page in the classroom. They would rather read it on\\ntheir own and later share and confirm their responses and appre-\\nciation with the teacher and the peer group through discussions,\\nquestions and, wherever possible, even role-play.\\nThe book contains ten pieces. Each piece has been divided into\\ntwo or thr ee manageable parts, each part briefly summarised in\\npoint for m without r evealing crucial tur ns and twists of the storyline,\\nthus sustaining r eaders’ curiosity and inter est. This for mat is being\\ntried to make compr ehension easier and concentration keener . Each\\npiece is followed by a set of questions as aids to understanding', metadata={'source': 'TextBook_PDF/fepw1ps.pdf', 'page': 6}),\n",
       " Document(page_content='tried to make compr ehension easier and concentration keener . Each\\npiece is followed by a set of questions as aids to understanding\\nand, at places, an idea for discussion. The questions may be\\nattempted orally befor e well-for mulated answers ar e put down on\\npaper . Discussion on r elated topics should be encouraged so that\\nlearners get an opportunity to go beyond the book and feel inspir ed\\nto reach hitherto undiscover ed vistas of knowledge and pleasur e.\\nThe stories, amply illustrated, deal with themes of cooperation,\\ncompassion, r espect for elders, sound decision-making, the magic\\nof music, health, adventur e, peace and social har mony. It is hoped\\nthat lear ners will find the book enjoyable and r ewarding.\\nRationalised 2023-24', metadata={'source': 'TextBook_PDF/fepw1ps.pdf', 'page': 6}),\n",
       " Document(page_content='Rationalised 2023-24', metadata={'source': 'TextBook_PDF/fepw1ps.pdf', 'page': 7}),\n",
       " Document(page_content='TEXTBOOK  DEVELOPMENT\\nCOMMITTEE\\nCHAIRPERSON , ADVISORY  GROUP IN LANGUAGES\\nProfessor Namwar Singh, formerly Chairman, School of Languages,\\nJawaharlal Nehru University, New Delhi\\nCHIEF ADVISOR\\nR. Amritavalli, Professor , English and For eign Languages University\\n(EFLU), Hyderabad\\nCHIEF COORDINATOR\\nRam Janma Sharma, Former  Head , Department of Education\\nin Languages, NCER T, New Delhi\\nMEMBERS\\nAmita Kochar , PGT (English), Chiranjeev Bharati School, Gur gaon\\nParminder Dutta, Principal,  Kendriya Vidyalaya, Airports Authority\\nof India, New Delhi\\nR. Meganathan, Assistant Pr ofessor , Department of Education\\nin Languages, NCER T, New Delhi\\nShalini Advani, Formerly Principal,  British School, New Delhi\\nMEMBER -COORDINATOR\\nNasiruddin Khan, Former Reader in English,  Department of\\nEducation in Languages, NCER T, New Delhi\\nRationalised 2023-24', metadata={'source': 'TextBook_PDF/fepw1ps.pdf', 'page': 8}),\n",
       " Document(page_content='ACKNOWLEDGEMENTS\\nTHE National Council of Educational Resear ch and T raining is\\ngrateful to Pr ofessor M.L. Tickoo, for merly of the Central Institute\\nof English and For eign Language s, Hyderabad, and  the Regional\\nLanguage Centr e, Singapor e, for going thr ough the manuscript\\nand making valuable suggestions.\\nNCER T would like to thank Orient Longman Private Limited,\\nNew Delhi for per mission to r eproduce the following pieces in this\\nbook: ‘What Happened to the Reptiles’ fr om Gul Mohar – Reader 7\\nand ‘The Old-Clock Shop’ fr om Gul Mohar – Practice Book 6.\\nSpecial thanks ar e also due to the Publication Department,\\nNCER T, for their support. NCER T gratefully acknowledges the\\ncontributions made by Bharati Guleria, Copy Editor , and V ijyanti\\nand Uttam Kumar , DTP Operators .\\nRationalised 2023-24', metadata={'source': 'TextBook_PDF/fepw1ps.pdf', 'page': 9}),\n",
       " Document(page_content='Foreword ..... iii\\nRationalisation of\\nContent in the Textbooks ..... v\\nA Note for the Teacher .....\\n vii\\n1.A Tale of Two Birds  ..... 1\\n2.The Friendly Mongoose  ..... 4\\n3.The Shepher d’s Treasur e ..... 7\\n4.Tansen  ..... 11\\n5.The Monkey and the Crocodile  ..... 16\\n6.The W onder Called Sleep  ..... 21\\n7.A Pact with the Sun  ..... 24\\nRationalised 2023-24', metadata={'source': 'TextBook_PDF/fepw1ps.pdf', 'page': 10}),\n",
       " Document(page_content='Constitution of India\\nFundamental Duties\\nIt shall be the duty of every citizen of India —\\n(a)to abide by the Constitution and respect its ideals and institutions, the\\nNational Flag and the National Anthem;\\n(b)to cherish and follow the noble ideals which inspired our national struggle\\nfor freedom;\\n(c)to uphold and protect the sovereignty , unity and integrity of India;\\n(d)to defend the country and render national service when called upon to\\ndo so;\\n(e)to promote harmony and the spirit of common brotherhood amongst all\\nthe people of India transcending religious, linguistic and regional or\\nsectional diversities; to renounce practices derogatory to the dignity of\\nwomen;\\n(f)to value and preserve the rich heritage of our composite culture;\\n(g)to protect and improve the natural environment including forests, lakes,\\nrivers, wildlife and to have compassion for living creatures;\\n(h)to develop the scientific temper , humanism and the spirit of inquiry and\\nreform;', metadata={'source': 'TextBook_PDF/fepw1ps.pdf', 'page': 11}),\n",
       " Document(page_content='rivers, wildlife and to have compassion for living creatures;\\n(h)to develop the scientific temper , humanism and the spirit of inquiry and\\nreform;\\n(i)to safeguard public property and to abjure violence;\\n(j)to strive towards excellence in all spheres of individual and collective\\nactivity so that the nation constantly rises to higher levels of endeavour\\nand achievement;\\n*(k)who is a parent or guardian, to provide opportunities for education to\\nhis child or , as the case may be, ward between the age of six and\\nfourteen years.\\nNote:The Article 51A  containing Fundamental Duties was inserted by the Constitution\\n(42nd Amendment) Act, 1976 (with ef fect from 3 January 1977).\\n*(k) was inserted by the Constitution (86th Amendment) Act, 2002 (with ef fect from\\n1 April 2010).Part IV A (Article 51 A)\\nRationalised 2023-24', metadata={'source': 'TextBook_PDF/fepw1ps.pdf', 'page': 11})]"
      ]
     },
     "execution_count": 4,
     "metadata": {},
     "output_type": "execute_result"
    }
   ],
   "source": [
    "# Transform the data i.e split into chunks\n",
    "\n",
    "from langchain.text_splitter import RecursiveCharacterTextSplitter\n",
    "\n",
    "text_splitter = RecursiveCharacterTextSplitter(chunk_size = 1000, chunk_overlap = 200)\n",
    "\n",
    "pdf_docs0 = text_splitter.split_documents(pdf0)\n",
    "pdf_docs1 = text_splitter.split_documents(pdf1)\n",
    "pdf_docs2 = text_splitter.split_documents(pdf2)\n",
    "pdf_docs3 = text_splitter.split_documents(pdf3)\n",
    "pdf_docs4 = text_splitter.split_documents(pdf4)\n",
    "pdf_docs5 = text_splitter.split_documents(pdf5)\n",
    "pdf_docs6 = text_splitter.split_documents(pdf6)\n",
    "pdf_docs7 = text_splitter.split_documents(pdf7)\n",
    "\n",
    "pdf_docs0"
   ]
  },
  {
   "cell_type": "code",
   "execution_count": 7,
   "metadata": {},
   "outputs": [],
   "source": [
    "# Create embeddings and vector store\n",
    "\n",
    "from langchain_openai import OpenAIEmbeddings\n",
    "from langchain_community.vectorstores import Chroma, Typesense\n",
    "\n",
    "chroma_db = Chroma.from_documents(pdf_docs1, OpenAIEmbeddings())\n",
    "\n",
    "\n",
    "\n",
    "typesense_db = Typesense.from_documents(\n",
    "pdf_docs1,\n",
    "OpenAIEmbeddings(),\n",
    "typesense_client_params = {\n",
    "\"host\" : \"czuxlts9ma6pewkdp-1.a1.typesense.net\",\n",
    "\"port\" : \"443\",\n",
    "\"protocol\" : \"https\",\n",
    "\"typesense_api_key\" : \"nezaUQR27h4ClkDLgC32nS0wKFaGmBCb\",\n",
    "\"typesense_collection_name\" : \"lang-chain\"\n",
    "},)\n"
   ]
  },
  {
   "cell_type": "code",
   "execution_count": 9,
   "metadata": {},
   "outputs": [],
   "source": [
    "from langchain_openai import OpenAI\n",
    "from langchain.chains.combine_documents import create_stuff_documents_chain\n",
    "from langchain_core.prompts import ChatPromptTemplate\n",
    "from langchain.chains.retrieval import create_retrieval_chain\n",
    "\n",
    "\n",
    "openai_model = OpenAI(model=\"gpt-3.5-turbo-instruct\")\n",
    "\n",
    "prompt = ChatPromptTemplate.from_template(\"\"\"\n",
    "Answer the following Question based only on the provided context.\n",
    "Think step by step before providing a detailed answer. I will tip you\n",
    "$2000 if the user finds the answer helpful.\n",
    "<context>\n",
    "{context}                                              \n",
    "</context>                                            \n",
    "Question : {input}\"\"\")\n",
    "\n",
    "\n",
    "# Create a chain\n",
    "doc_chain = create_stuff_documents_chain(openai_model, prompt)\n",
    "\n",
    "retriever = typesense_db.as_retriever()\n",
    "retriever_chain = create_retrieval_chain(retriever, doc_chain)\n",
    "\n",
    "response = retriever_chain.invoke({\"input\" : \"Explain about the 2 birds\"})    # \"Explain about textbook development commitee\"\n",
    "\n"
   ]
  },
  {
   "cell_type": "code",
   "execution_count": 11,
   "metadata": {},
   "outputs": [
    {
     "data": {
      "text/plain": [
       "' and their behavior as told by the rishi.\\nStep 1: The king of the country came to the forest for hunting and got lost. He met a bird who tried to lure him towards robbers.\\nStep 2: The king then reached an ashram where he met another bird who welcomed him and told him about the behavior of his brother bird.\\nStep 3: The rishi explained that the first bird was influenced by the company of robbers and imitated their behavior, while the second bird was kind and welcoming due to being raised in a peaceful environment.\\nStep 4: The rishi also compared the behavior of the birds to the saying \"one is known by the company one keeps\" and concluded that it is important to choose good company.\\nStep 5: The story teaches the moral of choosing the right company and being influenced by it.\\nStep 6: This story can be summed up as \"One is known by the company one keeps\".'"
      ]
     },
     "execution_count": 11,
     "metadata": {},
     "output_type": "execute_result"
    }
   ],
   "source": [
    "response['answer']"
   ]
  }
 ],
 "metadata": {
  "kernelspec": {
   "display_name": "Env1",
   "language": "python",
   "name": "python3"
  },
  "language_info": {
   "codemirror_mode": {
    "name": "ipython",
    "version": 3
   },
   "file_extension": ".py",
   "mimetype": "text/x-python",
   "name": "python",
   "nbconvert_exporter": "python",
   "pygments_lexer": "ipython3",
   "version": "3.12.0"
  }
 },
 "nbformat": 4,
 "nbformat_minor": 2
}
